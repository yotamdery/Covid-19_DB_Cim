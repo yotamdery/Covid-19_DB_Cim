{
 "cells": [
  {
   "cell_type": "code",
   "execution_count": 1,
   "metadata": {},
   "outputs": [],
   "source": [
    "# Importing:\n",
    "import numpy as np\n",
    "import pandas as pd\n",
    "from matplotlib import pyplot as plt\n",
    "import urllib.request\n",
    "import plotly.express as px\n",
    "import warnings \n",
    "warnings.simplefilter('ignore')\n",
    "import datetime\n",
    "desired_width=320\n",
    "pd.set_option('display.max_columns',10)\n",
    "pd.set_option('display.width', desired_width)\n",
    "\n",
    "# Display format\n",
    "pd.set_option('display.float_format', lambda x: '%.6f' % x)\n",
    "\n",
    "# Accessing the API\n",
    "url = 'https://data.gov.il/api/3/action/datastore_search?resource_id=d07c0771-01a8-43b2-96cc-c6154e7fa9bd&limit=1000000'\n",
    "fileobj = urllib.request.urlopen(url)\n",
    "df = pd.read_json(fileobj)\n",
    "data = df.loc['records']['result']\n",
    "sick = pd.DataFrame(data)\n"
   ]
  },
  {
   "cell_type": "code",
   "execution_count": 2,
   "metadata": {},
   "outputs": [],
   "source": [
    "#creating a mapper of town_code to town\n",
    "town_code_to_town = sick[['town_code', 'town']]\n",
    "town_code_to_town['town_code'] = town_code_to_town['town_code'].astype(int)"
   ]
  },
  {
   "cell_type": "code",
   "execution_count": 3,
   "metadata": {},
   "outputs": [],
   "source": [
    "# Type convertion of fields\n",
    "sick['date'] = pd.to_datetime(sick['date'])\n",
    "sick = sick.rename(columns= {'accumulated_diagnostic_tests' : 'accumulated_tested'})\n",
    "sick = sick.drop('_id', axis = 1)\n",
    "\n",
    "# filtering the df\n",
    "sick_filtered = sick[(sick['accumulated_cases'] != '0') & (sick['accumulated_recoveries'] != '0') & (sick['accumulated_tested'] != '0')]\n",
    "sick_filtered = sick_filtered[(sick_filtered['accumulated_cases'] != '<15') & (sick_filtered['accumulated_recoveries'] != '<15') & (sick_filtered['accumulated_tested'] != '<15')]\n",
    "sick_filtered = sick_filtered.loc[sick_filtered['accumulated_tested'].isna() == False]\n",
    "\n",
    "sick_filtered['accumulated_tested'] = sick_filtered['accumulated_tested'].astype(float)"
   ]
  },
  {
   "cell_type": "code",
   "execution_count": 4,
   "metadata": {},
   "outputs": [],
   "source": [
    "# Converting to int for all numeric fields\n",
    "for c in ['town_code','accumulated_cases','accumulated_recoveries','accumulated_tested']:\n",
    "    sick_filtered[c] = sick_filtered[c].astype(int)"
   ]
  },
  {
   "cell_type": "code",
   "execution_count": 5,
   "metadata": {},
   "outputs": [],
   "source": [
    "# Grouping the file by date and townn, And creating the 'active cases' column\n",
    "sick = sick_filtered.groupby(['date', 'town_code']).sum().reset_index()\n",
    "sick['active_cases'] = sick['accumulated_cases'] - sick['accumulated_recoveries']\n",
    "sick = sick.sort_values(by = ['town_code', 'date'])"
   ]
  },
  {
   "cell_type": "code",
   "execution_count": 6,
   "metadata": {},
   "outputs": [],
   "source": [
    "# Filtering towns that don't have more than a week documented (after cleaning)\n",
    "def no_data_for_a_week(df):\n",
    "    if df.shape[0] < 7:\n",
    "        pass\n",
    "    else:\n",
    "        return df\n",
    "    "
   ]
  },
  {
   "cell_type": "code",
   "execution_count": 7,
   "metadata": {},
   "outputs": [],
   "source": [
    "sick = sick.groupby('town_code', as_index= False).apply(no_data_for_a_week).reset_index()\n",
    "sick = sick.drop(labels= ['level_0','level_1'], axis= 1)"
   ]
  },
  {
   "cell_type": "code",
   "execution_count": 8,
   "metadata": {},
   "outputs": [],
   "source": [
    "sick = sick.merge(town_code_to_town, how= 'left', left_on= 'town_code', right_on= 'town_code')"
   ]
  },
  {
   "cell_type": "code",
   "execution_count": 9,
   "metadata": {},
   "outputs": [],
   "source": [
    "sick = sick.drop_duplicates(subset= ['date', 'town_code'])"
   ]
  },
  {
   "cell_type": "code",
   "execution_count": 10,
   "metadata": {},
   "outputs": [
    {
     "data": {
      "text/html": [
       "<div>\n",
       "<style scoped>\n",
       "    .dataframe tbody tr th:only-of-type {\n",
       "        vertical-align: middle;\n",
       "    }\n",
       "\n",
       "    .dataframe tbody tr th {\n",
       "        vertical-align: top;\n",
       "    }\n",
       "\n",
       "    .dataframe thead th {\n",
       "        text-align: right;\n",
       "    }\n",
       "</style>\n",
       "<table border=\"1\" class=\"dataframe\">\n",
       "  <thead>\n",
       "    <tr style=\"text-align: right;\">\n",
       "      <th></th>\n",
       "      <th>date</th>\n",
       "      <th>town_code</th>\n",
       "      <th>accumulated_cases</th>\n",
       "      <th>accumulated_recoveries</th>\n",
       "      <th>accumulated_tested</th>\n",
       "      <th>active_cases</th>\n",
       "      <th>town</th>\n",
       "    </tr>\n",
       "  </thead>\n",
       "  <tbody>\n",
       "  </tbody>\n",
       "</table>\n",
       "</div>"
      ],
      "text/plain": [
       "Empty DataFrame\n",
       "Columns: [date, town_code, accumulated_cases, accumulated_recoveries, accumulated_tested, active_cases, town]\n",
       "Index: []"
      ]
     },
     "execution_count": 10,
     "metadata": {},
     "output_type": "execute_result"
    }
   ],
   "source": [
    "sick.query(\"town_code == 4501\")"
   ]
  },
  {
   "cell_type": "code",
   "execution_count": 11,
   "metadata": {},
   "outputs": [],
   "source": [
    "# Converting from accumulated values to Count values, Creating 2 new columns:\n",
    "def create_count_heealth(df):\n",
    "    df[\"count_tests\"] = df['accumulated_tested'].diff(periods = 1)\n",
    "    df['count_positive_cases'] = df['accumulated_cases'].diff(periods = 1)\n",
    "    df['count_active_cases'] = df['active_cases'].diff(periods = 1)\n",
    "    df = df.loc[df[\"count_tests\"].notna()]\n",
    "    return df"
   ]
  },
  {
   "cell_type": "code",
   "execution_count": 12,
   "metadata": {},
   "outputs": [],
   "source": [
    "sick_with_count_health = sick.groupby('town_code', as_index= False).apply(create_count_heealth).reset_index()\n",
    "sick_with_count_health = sick_with_count_health.reset_index().drop(labels= ['index','level_0', 'level_1'], axis = 1)"
   ]
  },
  {
   "cell_type": "code",
   "execution_count": 13,
   "metadata": {},
   "outputs": [],
   "source": [
    "sick_with_count_health['positivity_rate'] = (sick_with_count_health['count_positive_cases'] / sick_with_count_health['count_tests']) * 100"
   ]
  },
  {
   "cell_type": "code",
   "execution_count": null,
   "metadata": {},
   "outputs": [],
   "source": []
  },
  {
   "cell_type": "markdown",
   "metadata": {},
   "source": [
    "### importing the population file:"
   ]
  },
  {
   "cell_type": "code",
   "execution_count": 14,
   "metadata": {},
   "outputs": [],
   "source": [
    "# Creating a mapper with population for each town\n",
    "pop_file = pd.read_excel(r'/Users/yotamdery/Old Desktop/university/Forth_Year/semester A/CIM Lab Course/Final_Project/סהכ-אוכלוסייה-לפי-אס-גיל-ומין-סוף-2017.xlsx', engine= 'openpyxl', usecols= 'B,D,E')\n",
    "pop_file = pop_file.loc[pop_file['אזור סטטיסטי'] == 'סה\"כ']\n",
    "pop_file = pop_file.rename(columns= {'אוכלוסייה בסוף 2017' : 'population', 'סמל יישוב' : 'town_id' }).drop('אזור סטטיסטי', axis = 1)\n",
    "pop_file['population'] = pop_file['population'].astype(int)\n",
    "pop_file['town_id'] = pop_file['town_id'].astype(int)"
   ]
  },
  {
   "cell_type": "code",
   "execution_count": 15,
   "metadata": {},
   "outputs": [],
   "source": [
    "sick_with_pop = sick_with_count_health.merge(pop_file, how= 'left', left_on= 'town_code', right_on= 'town_id').drop('town_id', axis = 1)"
   ]
  },
  {
   "cell_type": "markdown",
   "metadata": {},
   "source": [
    "### Envolving the socio demographic data"
   ]
  },
  {
   "cell_type": "code",
   "execution_count": 16,
   "metadata": {},
   "outputs": [],
   "source": [
    "socio_df = pd.read_csv(r'/Users/yotamdery/Old Desktop/university/Forth_Year/semester A/CIM Lab Course/Final_Project/sociodemographic_stat.csv')\n",
    "socio_df_grouped = socio_df.groupby(by= 'SEMEL_YISH')['Poverty_De'].mean()"
   ]
  },
  {
   "cell_type": "code",
   "execution_count": 17,
   "metadata": {},
   "outputs": [],
   "source": [
    "sick_pop_poverty = sick_with_pop.merge(socio_df_grouped, how= 'left', left_on= 'town_code', right_on= 'SEMEL_YISH')"
   ]
  },
  {
   "cell_type": "code",
   "execution_count": 18,
   "metadata": {},
   "outputs": [],
   "source": [
    "# A mapper to fill null values\n",
    "town_socio_mapper = sick_pop_poverty[['town_code','Poverty_De']].loc[~sick_pop_poverty[['town_code','town']].duplicated()]\n",
    "sick_pop_poverty.drop('Poverty_De', axis = 1, inplace = True)"
   ]
  },
  {
   "cell_type": "code",
   "execution_count": 19,
   "metadata": {},
   "outputs": [],
   "source": [
    "# Handeling null values\n",
    "np.random.seed(100)\n",
    "def fill_na_values(row): \n",
    "    row['Poverty_De'] = row['Poverty_De'].fillna(np.random.uniform(low= 0, high= 10))\n",
    "    return row"
   ]
  },
  {
   "cell_type": "code",
   "execution_count": 20,
   "metadata": {},
   "outputs": [],
   "source": [
    "town_socio_mapper = town_socio_mapper.groupby(by= 'town_code').apply(fill_na_values)"
   ]
  },
  {
   "cell_type": "code",
   "execution_count": 21,
   "metadata": {},
   "outputs": [],
   "source": [
    "sick_with_pop_socio = sick_with_pop.merge(town_socio_mapper, how= 'left', left_on= 'town_code', right_on= 'town_code')"
   ]
  },
  {
   "cell_type": "markdown",
   "metadata": {},
   "source": [
    "### Creating the indexes for traffic light model"
   ]
  },
  {
   "cell_type": "markdown",
   "metadata": {},
   "source": [
    "#### index number 1: "
   ]
  },
  {
   "cell_type": "code",
   "execution_count": 22,
   "metadata": {},
   "outputs": [],
   "source": [
    "sick_with_pop_socio['sick_for_10,000'] = sick_with_pop_socio['population'] * sick_with_pop_socio['count_active_cases'] / 10000"
   ]
  },
  {
   "cell_type": "code",
   "execution_count": 23,
   "metadata": {},
   "outputs": [],
   "source": [
    "sick_with_pop_socio['sick_for_10,000'][sick_with_pop_socio['sick_for_10,000'] < 1] = 1"
   ]
  },
  {
   "cell_type": "code",
   "execution_count": 24,
   "metadata": {},
   "outputs": [
    {
     "data": {
      "text/html": [
       "<div>\n",
       "<style scoped>\n",
       "    .dataframe tbody tr th:only-of-type {\n",
       "        vertical-align: middle;\n",
       "    }\n",
       "\n",
       "    .dataframe tbody tr th {\n",
       "        vertical-align: top;\n",
       "    }\n",
       "\n",
       "    .dataframe thead th {\n",
       "        text-align: right;\n",
       "    }\n",
       "</style>\n",
       "<table border=\"1\" class=\"dataframe\">\n",
       "  <thead>\n",
       "    <tr style=\"text-align: right;\">\n",
       "      <th></th>\n",
       "      <th>date</th>\n",
       "      <th>town_code</th>\n",
       "      <th>accumulated_cases</th>\n",
       "      <th>accumulated_recoveries</th>\n",
       "      <th>accumulated_tested</th>\n",
       "      <th>...</th>\n",
       "      <th>count_active_cases</th>\n",
       "      <th>positivity_rate</th>\n",
       "      <th>population</th>\n",
       "      <th>Poverty_De</th>\n",
       "      <th>sick_for_10,000</th>\n",
       "    </tr>\n",
       "  </thead>\n",
       "  <tbody>\n",
       "  </tbody>\n",
       "</table>\n",
       "<p>0 rows × 14 columns</p>\n",
       "</div>"
      ],
      "text/plain": [
       "Empty DataFrame\n",
       "Columns: [date, town_code, accumulated_cases, accumulated_recoveries, accumulated_tested, active_cases, town, count_tests, count_positive_cases, count_active_cases, positivity_rate, population, Poverty_De, sick_for_10,000]\n",
       "Index: []\n",
       "\n",
       "[0 rows x 14 columns]"
      ]
     },
     "execution_count": 24,
     "metadata": {},
     "output_type": "execute_result"
    }
   ],
   "source": [
    "sick_with_pop_socio.query(\"town_code == 4501\")"
   ]
  },
  {
   "cell_type": "markdown",
   "metadata": {},
   "source": [
    "#### index number 2:"
   ]
  },
  {
   "cell_type": "code",
   "execution_count": 25,
   "metadata": {},
   "outputs": [],
   "source": [
    "def create_index_2(df):\n",
    "    last_week_active_cases = list(df.loc[df['date'] == (df['date'].max() - datetime.timedelta(days=6))]['active_cases'])[0]\n",
    "    todays_positive_cases = list(df.loc[df['date'] == df['date'].max()]['count_positive_cases'])[0]\n",
    "    try:    \n",
    "        df['growth_rate'] = ((todays_positive_cases / last_week_active_cases)) ** 2\n",
    "        return df\n",
    "    except ZeroDivisionError:\n",
    "        df['growth_rate'] = 0.01\n",
    "        return df"
   ]
  },
  {
   "cell_type": "code",
   "execution_count": 26,
   "metadata": {},
   "outputs": [],
   "source": [
    "sick_with_pop_socio = sick_with_pop_socio.groupby(by= 'town_code').apply(create_index_2)"
   ]
  },
  {
   "cell_type": "code",
   "execution_count": 27,
   "metadata": {},
   "outputs": [
    {
     "data": {
      "text/html": [
       "<div>\n",
       "<style scoped>\n",
       "    .dataframe tbody tr th:only-of-type {\n",
       "        vertical-align: middle;\n",
       "    }\n",
       "\n",
       "    .dataframe tbody tr th {\n",
       "        vertical-align: top;\n",
       "    }\n",
       "\n",
       "    .dataframe thead th {\n",
       "        text-align: right;\n",
       "    }\n",
       "</style>\n",
       "<table border=\"1\" class=\"dataframe\">\n",
       "  <thead>\n",
       "    <tr style=\"text-align: right;\">\n",
       "      <th></th>\n",
       "      <th>date</th>\n",
       "      <th>town_code</th>\n",
       "      <th>accumulated_cases</th>\n",
       "      <th>accumulated_recoveries</th>\n",
       "      <th>accumulated_tested</th>\n",
       "      <th>...</th>\n",
       "      <th>positivity_rate</th>\n",
       "      <th>population</th>\n",
       "      <th>Poverty_De</th>\n",
       "      <th>sick_for_10,000</th>\n",
       "      <th>growth_rate</th>\n",
       "    </tr>\n",
       "  </thead>\n",
       "  <tbody>\n",
       "    <tr>\n",
       "      <th>0</th>\n",
       "      <td>2020-09-30</td>\n",
       "      <td>26</td>\n",
       "      <td>35</td>\n",
       "      <td>16</td>\n",
       "      <td>697</td>\n",
       "      <td>...</td>\n",
       "      <td>11.111111</td>\n",
       "      <td>3061</td>\n",
       "      <td>5.434049</td>\n",
       "      <td>1.000000</td>\n",
       "      <td>0.049383</td>\n",
       "    </tr>\n",
       "    <tr>\n",
       "      <th>1</th>\n",
       "      <td>2020-10-01</td>\n",
       "      <td>26</td>\n",
       "      <td>35</td>\n",
       "      <td>17</td>\n",
       "      <td>728</td>\n",
       "      <td>...</td>\n",
       "      <td>0.000000</td>\n",
       "      <td>3061</td>\n",
       "      <td>5.434049</td>\n",
       "      <td>1.000000</td>\n",
       "      <td>0.049383</td>\n",
       "    </tr>\n",
       "    <tr>\n",
       "      <th>2</th>\n",
       "      <td>2020-10-02</td>\n",
       "      <td>26</td>\n",
       "      <td>35</td>\n",
       "      <td>19</td>\n",
       "      <td>741</td>\n",
       "      <td>...</td>\n",
       "      <td>0.000000</td>\n",
       "      <td>3061</td>\n",
       "      <td>5.434049</td>\n",
       "      <td>1.000000</td>\n",
       "      <td>0.049383</td>\n",
       "    </tr>\n",
       "    <tr>\n",
       "      <th>3</th>\n",
       "      <td>2020-10-03</td>\n",
       "      <td>26</td>\n",
       "      <td>35</td>\n",
       "      <td>20</td>\n",
       "      <td>745</td>\n",
       "      <td>...</td>\n",
       "      <td>0.000000</td>\n",
       "      <td>3061</td>\n",
       "      <td>5.434049</td>\n",
       "      <td>1.000000</td>\n",
       "      <td>0.049383</td>\n",
       "    </tr>\n",
       "    <tr>\n",
       "      <th>4</th>\n",
       "      <td>2020-10-04</td>\n",
       "      <td>26</td>\n",
       "      <td>35</td>\n",
       "      <td>21</td>\n",
       "      <td>747</td>\n",
       "      <td>...</td>\n",
       "      <td>0.000000</td>\n",
       "      <td>3061</td>\n",
       "      <td>5.434049</td>\n",
       "      <td>1.000000</td>\n",
       "      <td>0.049383</td>\n",
       "    </tr>\n",
       "    <tr>\n",
       "      <th>...</th>\n",
       "      <td>...</td>\n",
       "      <td>...</td>\n",
       "      <td>...</td>\n",
       "      <td>...</td>\n",
       "      <td>...</td>\n",
       "      <td>...</td>\n",
       "      <td>...</td>\n",
       "      <td>...</td>\n",
       "      <td>...</td>\n",
       "      <td>...</td>\n",
       "      <td>...</td>\n",
       "    </tr>\n",
       "    <tr>\n",
       "      <th>43759</th>\n",
       "      <td>2021-01-03</td>\n",
       "      <td>9800</td>\n",
       "      <td>242</td>\n",
       "      <td>218</td>\n",
       "      <td>10024</td>\n",
       "      <td>...</td>\n",
       "      <td>3.896104</td>\n",
       "      <td>15634</td>\n",
       "      <td>2.750000</td>\n",
       "      <td>1.000000</td>\n",
       "      <td>0.002066</td>\n",
       "    </tr>\n",
       "    <tr>\n",
       "      <th>43760</th>\n",
       "      <td>2021-01-04</td>\n",
       "      <td>9800</td>\n",
       "      <td>246</td>\n",
       "      <td>220</td>\n",
       "      <td>10128</td>\n",
       "      <td>...</td>\n",
       "      <td>3.846154</td>\n",
       "      <td>15634</td>\n",
       "      <td>2.750000</td>\n",
       "      <td>3.126800</td>\n",
       "      <td>0.002066</td>\n",
       "    </tr>\n",
       "    <tr>\n",
       "      <th>43761</th>\n",
       "      <td>2021-01-05</td>\n",
       "      <td>9800</td>\n",
       "      <td>246</td>\n",
       "      <td>222</td>\n",
       "      <td>10249</td>\n",
       "      <td>...</td>\n",
       "      <td>0.000000</td>\n",
       "      <td>15634</td>\n",
       "      <td>2.750000</td>\n",
       "      <td>1.000000</td>\n",
       "      <td>0.002066</td>\n",
       "    </tr>\n",
       "    <tr>\n",
       "      <th>43762</th>\n",
       "      <td>2021-01-06</td>\n",
       "      <td>9800</td>\n",
       "      <td>247</td>\n",
       "      <td>223</td>\n",
       "      <td>10350</td>\n",
       "      <td>...</td>\n",
       "      <td>0.990099</td>\n",
       "      <td>15634</td>\n",
       "      <td>2.750000</td>\n",
       "      <td>1.000000</td>\n",
       "      <td>0.002066</td>\n",
       "    </tr>\n",
       "    <tr>\n",
       "      <th>43763</th>\n",
       "      <td>2021-01-07</td>\n",
       "      <td>9800</td>\n",
       "      <td>248</td>\n",
       "      <td>226</td>\n",
       "      <td>10431</td>\n",
       "      <td>...</td>\n",
       "      <td>1.234568</td>\n",
       "      <td>15634</td>\n",
       "      <td>2.750000</td>\n",
       "      <td>1.000000</td>\n",
       "      <td>0.002066</td>\n",
       "    </tr>\n",
       "  </tbody>\n",
       "</table>\n",
       "<p>43764 rows × 15 columns</p>\n",
       "</div>"
      ],
      "text/plain": [
       "            date  town_code  accumulated_cases  accumulated_recoveries  accumulated_tested  ...  positivity_rate population  Poverty_De  sick_for_10,000  growth_rate\n",
       "0     2020-09-30         26                 35                      16                 697  ...        11.111111       3061    5.434049         1.000000     0.049383\n",
       "1     2020-10-01         26                 35                      17                 728  ...         0.000000       3061    5.434049         1.000000     0.049383\n",
       "2     2020-10-02         26                 35                      19                 741  ...         0.000000       3061    5.434049         1.000000     0.049383\n",
       "3     2020-10-03         26                 35                      20                 745  ...         0.000000       3061    5.434049         1.000000     0.049383\n",
       "4     2020-10-04         26                 35                      21                 747  ...         0.000000       3061    5.434049         1.000000     0.049383\n",
       "...          ...        ...                ...                     ...                 ...  ...              ...        ...         ...              ...          ...\n",
       "43759 2021-01-03       9800                242                     218               10024  ...         3.896104      15634    2.750000         1.000000     0.002066\n",
       "43760 2021-01-04       9800                246                     220               10128  ...         3.846154      15634    2.750000         3.126800     0.002066\n",
       "43761 2021-01-05       9800                246                     222               10249  ...         0.000000      15634    2.750000         1.000000     0.002066\n",
       "43762 2021-01-06       9800                247                     223               10350  ...         0.990099      15634    2.750000         1.000000     0.002066\n",
       "43763 2021-01-07       9800                248                     226               10431  ...         1.234568      15634    2.750000         1.000000     0.002066\n",
       "\n",
       "[43764 rows x 15 columns]"
      ]
     },
     "execution_count": 27,
     "metadata": {},
     "output_type": "execute_result"
    }
   ],
   "source": [
    "sick_with_pop_socio"
   ]
  },
  {
   "cell_type": "code",
   "execution_count": 28,
   "metadata": {},
   "outputs": [],
   "source": [
    "sick_with_pop_socio['growth_rate'][sick_with_pop_socio['growth_rate'] < 0.5] = 1"
   ]
  },
  {
   "cell_type": "markdown",
   "metadata": {},
   "source": [
    "#### index number 3:"
   ]
  },
  {
   "cell_type": "code",
   "execution_count": 29,
   "metadata": {},
   "outputs": [],
   "source": [
    "# taking the rows within the past week:\n",
    "mask = (sick_with_pop_socio['date'] > (sick_with_pop_socio['date'].max() - datetime.timedelta(days=7))) & (sick_with_pop_socio['date'] <= sick_with_pop_socio['date'].max())\n",
    "df_past_week = sick_with_pop_socio.loc[mask]"
   ]
  },
  {
   "cell_type": "code",
   "execution_count": 30,
   "metadata": {},
   "outputs": [],
   "source": [
    "df_past_week_grouped = df_past_week.groupby('town_code')['positivity_rate'].mean().to_frame().reset_index()"
   ]
  },
  {
   "cell_type": "code",
   "execution_count": 31,
   "metadata": {},
   "outputs": [],
   "source": [
    "df_past_week_grouped['positivity_rate_last_week'] = (((df_past_week_grouped['positivity_rate'])+1 / 100)) * (100/8.5)"
   ]
  },
  {
   "cell_type": "code",
   "execution_count": 32,
   "metadata": {},
   "outputs": [],
   "source": [
    "df_past_week_grouped = df_past_week_grouped.drop('positivity_rate', axis = 1)"
   ]
  },
  {
   "cell_type": "code",
   "execution_count": 33,
   "metadata": {},
   "outputs": [],
   "source": [
    "# Merging it with the health df\n",
    "sick_with_pop_socio = sick_with_pop_socio.merge(df_past_week_grouped, how= 'left', left_on= 'town_code', right_on= 'town_code')"
   ]
  },
  {
   "cell_type": "code",
   "execution_count": 34,
   "metadata": {},
   "outputs": [
    {
     "data": {
      "text/html": [
       "<div>\n",
       "<style scoped>\n",
       "    .dataframe tbody tr th:only-of-type {\n",
       "        vertical-align: middle;\n",
       "    }\n",
       "\n",
       "    .dataframe tbody tr th {\n",
       "        vertical-align: top;\n",
       "    }\n",
       "\n",
       "    .dataframe thead th {\n",
       "        text-align: right;\n",
       "    }\n",
       "</style>\n",
       "<table border=\"1\" class=\"dataframe\">\n",
       "  <thead>\n",
       "    <tr style=\"text-align: right;\">\n",
       "      <th></th>\n",
       "      <th>date</th>\n",
       "      <th>town_code</th>\n",
       "      <th>accumulated_cases</th>\n",
       "      <th>accumulated_recoveries</th>\n",
       "      <th>accumulated_tested</th>\n",
       "      <th>...</th>\n",
       "      <th>population</th>\n",
       "      <th>Poverty_De</th>\n",
       "      <th>sick_for_10,000</th>\n",
       "      <th>growth_rate</th>\n",
       "      <th>positivity_rate_last_week</th>\n",
       "    </tr>\n",
       "  </thead>\n",
       "  <tbody>\n",
       "    <tr>\n",
       "      <th>0</th>\n",
       "      <td>2020-09-30</td>\n",
       "      <td>26</td>\n",
       "      <td>35</td>\n",
       "      <td>16</td>\n",
       "      <td>697</td>\n",
       "      <td>...</td>\n",
       "      <td>3061</td>\n",
       "      <td>5.434049</td>\n",
       "      <td>1.000000</td>\n",
       "      <td>1.000000</td>\n",
       "      <td>26.187688</td>\n",
       "    </tr>\n",
       "    <tr>\n",
       "      <th>1</th>\n",
       "      <td>2020-10-01</td>\n",
       "      <td>26</td>\n",
       "      <td>35</td>\n",
       "      <td>17</td>\n",
       "      <td>728</td>\n",
       "      <td>...</td>\n",
       "      <td>3061</td>\n",
       "      <td>5.434049</td>\n",
       "      <td>1.000000</td>\n",
       "      <td>1.000000</td>\n",
       "      <td>26.187688</td>\n",
       "    </tr>\n",
       "    <tr>\n",
       "      <th>2</th>\n",
       "      <td>2020-10-02</td>\n",
       "      <td>26</td>\n",
       "      <td>35</td>\n",
       "      <td>19</td>\n",
       "      <td>741</td>\n",
       "      <td>...</td>\n",
       "      <td>3061</td>\n",
       "      <td>5.434049</td>\n",
       "      <td>1.000000</td>\n",
       "      <td>1.000000</td>\n",
       "      <td>26.187688</td>\n",
       "    </tr>\n",
       "    <tr>\n",
       "      <th>3</th>\n",
       "      <td>2020-10-03</td>\n",
       "      <td>26</td>\n",
       "      <td>35</td>\n",
       "      <td>20</td>\n",
       "      <td>745</td>\n",
       "      <td>...</td>\n",
       "      <td>3061</td>\n",
       "      <td>5.434049</td>\n",
       "      <td>1.000000</td>\n",
       "      <td>1.000000</td>\n",
       "      <td>26.187688</td>\n",
       "    </tr>\n",
       "    <tr>\n",
       "      <th>4</th>\n",
       "      <td>2020-10-04</td>\n",
       "      <td>26</td>\n",
       "      <td>35</td>\n",
       "      <td>21</td>\n",
       "      <td>747</td>\n",
       "      <td>...</td>\n",
       "      <td>3061</td>\n",
       "      <td>5.434049</td>\n",
       "      <td>1.000000</td>\n",
       "      <td>1.000000</td>\n",
       "      <td>26.187688</td>\n",
       "    </tr>\n",
       "  </tbody>\n",
       "</table>\n",
       "<p>5 rows × 16 columns</p>\n",
       "</div>"
      ],
      "text/plain": [
       "        date  town_code  accumulated_cases  accumulated_recoveries  accumulated_tested  ...  population Poverty_De  sick_for_10,000  growth_rate  positivity_rate_last_week\n",
       "0 2020-09-30         26                 35                      16                 697  ...        3061   5.434049         1.000000     1.000000                  26.187688\n",
       "1 2020-10-01         26                 35                      17                 728  ...        3061   5.434049         1.000000     1.000000                  26.187688\n",
       "2 2020-10-02         26                 35                      19                 741  ...        3061   5.434049         1.000000     1.000000                  26.187688\n",
       "3 2020-10-03         26                 35                      20                 745  ...        3061   5.434049         1.000000     1.000000                  26.187688\n",
       "4 2020-10-04         26                 35                      21                 747  ...        3061   5.434049         1.000000     1.000000                  26.187688\n",
       "\n",
       "[5 rows x 16 columns]"
      ]
     },
     "execution_count": 34,
     "metadata": {},
     "output_type": "execute_result"
    }
   ],
   "source": [
    "sick_with_pop_socio.head()"
   ]
  },
  {
   "cell_type": "markdown",
   "metadata": {},
   "source": [
    "### Creating the traffic-light index for each town"
   ]
  },
  {
   "cell_type": "code",
   "execution_count": 35,
   "metadata": {},
   "outputs": [],
   "source": [
    "# The traffic light formula as it defined by Israel's ministrey of health\n",
    "sick_with_pop_socio['traffic_light_index'] = 2 + np.log(sick_with_pop_socio['sick_for_10,000']) + np.log(sick_with_pop_socio['growth_rate']) + np.log(sick_with_pop_socio['positivity_rate_last_week'])"
   ]
  },
  {
   "cell_type": "code",
   "execution_count": 36,
   "metadata": {},
   "outputs": [],
   "source": [
    "# Determine the color of the town according to the traffic light model\n",
    "def set_town_color(df):\n",
    "    df['traffic_light_index'] = list(df['traffic_light_index'])[-1]\n",
    "    if list(df['traffic_light_index'])[0] >= 7.5:\n",
    "        df['town_color'] = 'red'\n",
    "    elif (list(df['traffic_light_index'])[0] < 7.5) and (list(df['traffic_light_index'])[0] >= 6):\n",
    "        df['town_color'] = 'orange'\n",
    "    elif (list(df['traffic_light_index'])[0] < 6) and (list(df['traffic_light_index'])[0] >= 4.5):\n",
    "        df['town_color'] = 'yellow'\n",
    "    else:\n",
    "        df['town_color'] = 'green'\n",
    "    return df\n",
    "    "
   ]
  },
  {
   "cell_type": "code",
   "execution_count": 37,
   "metadata": {},
   "outputs": [],
   "source": [
    "sick_with_pop_socio_grouped = sick_with_pop_socio.groupby('town_code').apply(set_town_color)"
   ]
  },
  {
   "cell_type": "code",
   "execution_count": 38,
   "metadata": {},
   "outputs": [
    {
     "data": {
      "text/plain": [
       "array([  46,  482,  492,  499,  502,  504,  509,  531,  532,  534,  537,\n",
       "        538,  541,  577,  627,  634,  637,  922,  975, 1137, 1309, 1326,\n",
       "       2640, 2660, 2710, 2730, 3570, 3730, 3780, 3797, 4201, 4502, 6100,\n",
       "       6900, 7100, 7200, 7300, 7400, 7500, 7900, 8000, 8600, 8700, 9300,\n",
       "       9600])"
      ]
     },
     "execution_count": 38,
     "metadata": {},
     "output_type": "execute_result"
    }
   ],
   "source": [
    "sick_with_pop_socio_grouped[sick_with_pop_socio_grouped['traffic_light_index'] >= 7.5]['town_code'].unique()"
   ]
  },
  {
   "cell_type": "markdown",
   "metadata": {},
   "source": [
    "### Importing the towns hebrew english file to have the town names in english "
   ]
  },
  {
   "cell_type": "code",
   "execution_count": 42,
   "metadata": {},
   "outputs": [],
   "source": [
    "towns_hebrew_english = pd.read_csv(r'towns_hebrew_english.csv', encoding= 'utf-8')\n",
    "sick_with_pop_socio_grouped = sick_with_pop_socio_grouped.merge(towns_hebrew_english, how= 'inner', left_on= 'town_code', right_on= 'town_code')\n",
    "sick_with_pop_socio_grouped['town'] = sick_with_pop_socio_grouped['town_name']\n",
    "sick_with_pop_socio_grouped.drop('town_name', axis= 1, inplace= True)"
   ]
  },
  {
   "cell_type": "code",
   "execution_count": null,
   "metadata": {},
   "outputs": [],
   "source": []
  }
 ],
 "metadata": {
  "kernelspec": {
   "display_name": "Python 3",
   "language": "python",
   "name": "python3"
  },
  "language_info": {
   "codemirror_mode": {
    "name": "ipython",
    "version": 3
   },
   "file_extension": ".py",
   "mimetype": "text/x-python",
   "name": "python",
   "nbconvert_exporter": "python",
   "pygments_lexer": "ipython3",
   "version": "3.8.5"
  }
 },
 "nbformat": 4,
 "nbformat_minor": 4
}
